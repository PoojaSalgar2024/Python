{
 "cells": [
  {
   "cell_type": "markdown",
   "id": "a301b1ee",
   "metadata": {},
   "source": [
    "# Strings\n",
    "\n",
    "**What is String ?**\n",
    "- String is sequence of characters enclosed in quotes (  '    ', \"   \", '''     ''').\n",
    "- String is the combination of text.\n",
    "- Strings are **immutable\"**, once it's created you can't change. \n",
    "- ''' ''' multiline string."
   ]
  },
  {
   "cell_type": "markdown",
   "id": "c53fc7ed",
   "metadata": {},
   "source": [
    "#### Different ways of declaration of string"
   ]
  },
  {
   "cell_type": "code",
   "execution_count": 6,
   "id": "e72aad17",
   "metadata": {},
   "outputs": [
    {
     "name": "stdout",
     "output_type": "stream",
     "text": [
      "string1: Hello, My name is Pooja\n",
      "string2: Hello, My name is Pooja\n",
      "string3: Hello, My name is Pooja\n"
     ]
    }
   ],
   "source": [
    "# double quotes\n",
    "string1=\"Hello, My name is Pooja\"\n",
    "string2='Hello, My name is Pooja'\n",
    "string3='''Hello, My name is Pooja'''\n",
    "\n",
    "print(\"string1:\",string1)\n",
    "print(\"string2:\",string2)\n",
    "print(\"string3:\",string3)"
   ]
  },
  {
   "cell_type": "markdown",
   "id": "501da704",
   "metadata": {},
   "source": [
    "#### Dynamically accessing the string\n",
    "- input() if the function which is used to access the string dynamically.\n"
   ]
  },
  {
   "cell_type": "code",
   "execution_count": 9,
   "id": "cba3a771",
   "metadata": {},
   "outputs": [
    {
     "name": "stdout",
     "output_type": "stream",
     "text": [
      "Enter the any string you wanted:Hey, how are you ?\n",
      "The string is: Hey, how are you ?\n"
     ]
    }
   ],
   "source": [
    "string_1=input(\"Enter the any string you wanted:\")\n",
    "print(\"The string is:\",string_1)"
   ]
  },
  {
   "cell_type": "markdown",
   "id": "bcc8fda6",
   "metadata": {},
   "source": [
    "#### String are immutable -\n",
    "- Once the string are created it can't be changed."
   ]
  },
  {
   "cell_type": "code",
   "execution_count": 14,
   "id": "09c8e050",
   "metadata": {},
   "outputs": [
    {
     "name": "stdout",
     "output_type": "stream",
     "text": [
      "Yello\n"
     ]
    }
   ],
   "source": [
    "text = \"Hello\"\n",
    "\n",
    "# ❌ Trying to change a character directly — this will cause an error:\n",
    "# text[0] = \"Y\"  # Uncommenting this will raise: TypeError: 'str' object does not support item assignment\n",
    "\n",
    "# ✅ Correct way: create a new string instead\n",
    "new_text = \"Y\" + text[1:]\n",
    "print(new_text)  # Output: 'Yello'\n"
   ]
  },
  {
   "cell_type": "markdown",
   "id": "f627d13a",
   "metadata": {},
   "source": [
    "#### Slicing of the string\n",
    "- First character is accessed with 0\n",
    "- Last character of string is accessed with -1\n",
    "- string[start : stop : step]\n",
    "\n",
    "👉 Note:\n",
    "- start → where to begin (inclusive)\n",
    "\n",
    "- stop → where to end (exclusive)\n",
    "\n",
    "- step → how many to skip"
   ]
  },
  {
   "cell_type": "code",
   "execution_count": 21,
   "id": "bd263b9c",
   "metadata": {},
   "outputs": [
    {
     "name": "stdout",
     "output_type": "stream",
     "text": [
      "Hello, My name is Pooja\n",
      "The first character is: H\n",
      "The first character is: a\n"
     ]
    }
   ],
   "source": [
    "#Access the first character\n",
    "print(string1)\n",
    "print(\"The first character is:\",string1[0])\n",
    "print(\"The first character is:\",string1[-1])"
   ]
  },
  {
   "cell_type": "code",
   "execution_count": 34,
   "id": "ce75ec83",
   "metadata": {},
   "outputs": [
    {
     "name": "stdout",
     "output_type": "stream",
     "text": [
      "He\n",
      "Hl  mi\n",
      "ooj\n",
      "Hello, My name is Pooj\n"
     ]
    }
   ],
   "source": [
    "print(string1[0:2])\n",
    "print(string1[0:17:3])\n",
    "print(string1[-4:-1])\n",
    "print(string1[0:-1])"
   ]
  },
  {
   "cell_type": "code",
   "execution_count": 37,
   "id": "beb76397",
   "metadata": {},
   "outputs": [
    {
     "name": "stdout",
     "output_type": "stream",
     "text": [
      "My name is Pooja\n",
      "Hello, \n"
     ]
    }
   ],
   "source": [
    "print(string1[7:])\n",
    "print(string1[:7])"
   ]
  },
  {
   "cell_type": "code",
   "execution_count": 38,
   "id": "f548343a",
   "metadata": {},
   "outputs": [
    {
     "name": "stdout",
     "output_type": "stream",
     "text": [
      "ajooP si eman yM ,olleH\n"
     ]
    }
   ],
   "source": [
    "print(string1[::-1]) #reverse the string"
   ]
  },
  {
   "cell_type": "code",
   "execution_count": 45,
   "id": "1cd6d450",
   "metadata": {},
   "outputs": [
    {
     "name": "stdout",
     "output_type": "stream",
     "text": [
      "Hlo ynm sPoa\n",
      "Hoymso\n",
      "aoPs mny olH\n"
     ]
    }
   ],
   "source": [
    "print(string1[::2]) # it will print whole string with step 2\n",
    "print(string1[::4]) # it will print whole string with step 4\n",
    "print(string1[::-2]) # it will print whole  reverse string with step 2"
   ]
  },
  {
   "cell_type": "markdown",
   "id": "0a0ad145",
   "metadata": {},
   "source": [
    "### Basic Operations of String"
   ]
  },
  {
   "cell_type": "markdown",
   "id": "4095dfba",
   "metadata": {},
   "source": [
    "#### 1. len()\n",
    "- Returns the total length of the string\n",
    "\n"
   ]
  },
  {
   "cell_type": "code",
   "execution_count": 48,
   "id": "732a6dfa",
   "metadata": {},
   "outputs": [
    {
     "name": "stdout",
     "output_type": "stream",
     "text": [
      "Hello, My name is Pooja\n",
      "The total length of the string is: 23\n"
     ]
    }
   ],
   "source": [
    "print(string1)\n",
    "print('The total length of the string is:',len(string1))"
   ]
  },
  {
   "cell_type": "markdown",
   "id": "ae011668",
   "metadata": {},
   "source": [
    "#### 2. Concatenation\n",
    "- combining 2 or more strings\n",
    "- concatenation works only on strings.\n",
    "- if you try to combine string and other datatype - it will raise an error and you won't able to concate\n"
   ]
  },
  {
   "cell_type": "code",
   "execution_count": 51,
   "id": "72ecba4e",
   "metadata": {},
   "outputs": [
    {
     "name": "stdout",
     "output_type": "stream",
     "text": [
      "Hello, My name is Pooja\n",
      "Hello, My name is Pooja\n",
      "Hello, My name is Pooja Hello, My name is Pooja\n"
     ]
    }
   ],
   "source": [
    "print(string1)\n",
    "print(string2)\n",
    "print(string1+' '+string2)"
   ]
  },
  {
   "cell_type": "markdown",
   "id": "896bf35e",
   "metadata": {},
   "source": [
    "#### 3. capitalize()\n",
    "- Capitalize the first character of the string to *UPPER CASE*"
   ]
  },
  {
   "cell_type": "code",
   "execution_count": 53,
   "id": "cb232be6",
   "metadata": {},
   "outputs": [
    {
     "data": {
      "text/plain": [
       "'Hi, welcome to india'"
      ]
     },
     "execution_count": 53,
     "metadata": {},
     "output_type": "execute_result"
    }
   ],
   "source": [
    "txt=\"hi, welcome to India\"\n",
    "txt.capitalize()"
   ]
  },
  {
   "cell_type": "markdown",
   "id": "49d223f4",
   "metadata": {},
   "source": [
    "#### 4. casefold()\n",
    "- convert the whole string to lower case (similar as lower())"
   ]
  },
  {
   "cell_type": "code",
   "execution_count": 56,
   "id": "6f817a1f",
   "metadata": {},
   "outputs": [
    {
     "data": {
      "text/plain": [
       "'hi, welcome to pune'"
      ]
     },
     "execution_count": 56,
     "metadata": {},
     "output_type": "execute_result"
    }
   ],
   "source": [
    "txt1=\"HI, Welcome to Pune\"\n",
    "txt1.casefold()"
   ]
  },
  {
   "cell_type": "markdown",
   "id": "daa3139e",
   "metadata": {},
   "source": [
    "#### 5. center()\n",
    "- Returns the string to the center, The center() method will center align the string, using a specified character (space is default) as the fill character.\n",
    "- syntax : **string.center(length, character)**"
   ]
  },
  {
   "cell_type": "code",
   "execution_count": 64,
   "id": "19657d26",
   "metadata": {},
   "outputs": [
    {
     "name": "stdout",
     "output_type": "stream",
     "text": [
      "  Apple   \n",
      "OOOOOOOOOOWatermelonOOOOOOOOOO\n"
     ]
    }
   ],
   "source": [
    "txt2=\"Apple\"\n",
    "t=txt2.center(10)\n",
    "print(t)\n",
    "txt3 = \"Watermelon\"\n",
    "x = txt3.center(30, \"O\")\n",
    "print(x)"
   ]
  },
  {
   "cell_type": "markdown",
   "id": "ededf666",
   "metadata": {},
   "source": [
    "#### 6. count()\n",
    "- Returns the number of times a specified value occurs in a string\n",
    "- syntax : **string.count(value, start, end)**"
   ]
  },
  {
   "cell_type": "code",
   "execution_count": 71,
   "id": "b6f47a89",
   "metadata": {},
   "outputs": [
    {
     "name": "stdout",
     "output_type": "stream",
     "text": [
      "3\n",
      "2\n"
     ]
    }
   ],
   "source": [
    "txt_1= \"Pooja is my name,my name is Pooja, Pooja\"\n",
    "print(txt_1.count(\"Pooja\"))\n",
    "print(txt_1.count(\"Pooja\",10,50)) #start and end "
   ]
  },
  {
   "cell_type": "markdown",
   "id": "b393f411",
   "metadata": {},
   "source": [
    "#### 7. encode()\n",
    "- Return the encode string\n",
    "- The encode() method encodes the string, using the specified encoding. If no encoding is specified, UTF-8 will be used.\n",
    "- syntax: **string.encode(encoding=encoding, errors=errors)**\n"
   ]
  },
  {
   "cell_type": "code",
   "execution_count": 72,
   "id": "2da8f28d",
   "metadata": {},
   "outputs": [
    {
     "name": "stdout",
     "output_type": "stream",
     "text": [
      "b'My name is St\\\\xe5le'\n",
      "b'My name is Stle'\n",
      "b'My name is St\\\\N{LATIN SMALL LETTER A WITH RING ABOVE}le'\n",
      "b'My name is St?le'\n",
      "b'My name is St&#229;le'\n"
     ]
    }
   ],
   "source": [
    "txt = \"My name is Ståle\"\n",
    "\n",
    "print(txt.encode(encoding=\"ascii\",errors=\"backslashreplace\"))\n",
    "print(txt.encode(encoding=\"ascii\",errors=\"ignore\"))\n",
    "print(txt.encode(encoding=\"ascii\",errors=\"namereplace\"))\n",
    "print(txt.encode(encoding=\"ascii\",errors=\"replace\"))\n",
    "print(txt.encode(encoding=\"ascii\",errors=\"xmlcharrefreplace\"))"
   ]
  },
  {
   "cell_type": "markdown",
   "id": "55e10f77",
   "metadata": {},
   "source": [
    "#### 8. endswith()\n",
    "- Returns true if the string ends with specified value\n",
    "- syntax - **string.endswith(value, start, end)**\n"
   ]
  },
  {
   "cell_type": "code",
   "execution_count": 83,
   "id": "333207d4",
   "metadata": {},
   "outputs": [
    {
     "name": "stdout",
     "output_type": "stream",
     "text": [
      "Pooja is my name,my name is Pooja, Pooja\n",
      "True\n",
      "False\n"
     ]
    }
   ],
   "source": [
    "print(txt_1)\n",
    "print(txt_1.endswith('Pooja'))\n",
    "print(txt_1.endswith('Pooa'))"
   ]
  },
  {
   "cell_type": "markdown",
   "id": "aa1c33d5",
   "metadata": {},
   "source": [
    "#### 9 . expandstab()\n",
    "- The expandtabs() method sets the tab size to the specified number of whitespaces.\n",
    "- syntax : **string.expandtabs(tabsize)**"
   ]
  },
  {
   "cell_type": "code",
   "execution_count": 88,
   "id": "6010665f",
   "metadata": {},
   "outputs": [
    {
     "name": "stdout",
     "output_type": "stream",
     "text": [
      "H\te\tl\tl\to\n",
      "H       e       l       l       o\n",
      "H e l l o\n",
      "H   e   l   l   o\n",
      "H         e         l         l         o\n"
     ]
    }
   ],
   "source": [
    "txt = \"H\\te\\tl\\tl\\to\"\n",
    "\n",
    "print(txt)\n",
    "print(txt.expandtabs())\n",
    "print(txt.expandtabs(2))\n",
    "print(txt.expandtabs(4))\n",
    "print(txt.expandtabs(10))"
   ]
  },
  {
   "cell_type": "markdown",
   "id": "b4761913",
   "metadata": {},
   "source": [
    "#### 10. find()\n",
    "- Searches the string for a specified value and returns the position of where it was found\n",
    "- if you have same string multiple times, it will return the first found position string\n",
    "- returns -1 if string is not found \n",
    "- syntax : **string.find(value, start, end)**"
   ]
  },
  {
   "cell_type": "code",
   "execution_count": 96,
   "id": "b9d4a692",
   "metadata": {},
   "outputs": [
    {
     "name": "stdout",
     "output_type": "stream",
     "text": [
      "Pooja is my name,my name is Pooja, Pooja\n",
      "0\n",
      "28\n"
     ]
    }
   ],
   "source": [
    "print(txt_1)\n",
    "print(txt_1.find(\"Pooja\"))\n",
    "print(txt_1.find(\"Pooja\",10))"
   ]
  },
  {
   "cell_type": "markdown",
   "id": "62897cb8",
   "metadata": {},
   "source": [
    "#### 11. format()\n",
    "- Formats specified values in a string\n",
    "- The format() method formats the specified value(s) and insert them inside the string's placeholder.\n",
    "- The placeholder is defined using curly brackets: {}. Read more about the placeholders in the Placeholder section below.\n",
    "- The format() method returns the formatted string.\n",
    "- syntax : string.format(value1, value2...)"
   ]
  },
  {
   "cell_type": "code",
   "execution_count": 100,
   "id": "84209238",
   "metadata": {},
   "outputs": [
    {
     "name": "stdout",
     "output_type": "stream",
     "text": [
      "My name is Pooja, I'm 20\n",
      "My name is Pooja, I'm 24\n",
      "My name is Pooja, I'm 26\n"
     ]
    }
   ],
   "source": [
    "txt1 = \"My name is {fname}, I'm {age}\".format(fname = \"Pooja\", age =20)\n",
    "txt2 = \"My name is {0}, I'm {1}\".format(\"Pooja\",24)\n",
    "txt3 = \"My name is {}, I'm {}\".format(\"Pooja\",26)\n",
    "print(txt1)\n",
    "print(txt2)\n",
    "print(txt3)"
   ]
  },
  {
   "cell_type": "markdown",
   "id": "d83d9523",
   "metadata": {},
   "source": [
    "#### 12. index()\n",
    "- Searches the string for a specified value and returns the position of where it was found\n",
    "- if you have same string multiple times, it will return the first found position string\n",
    "- returns expection(error) if string is not found\n",
    "- syntax : string.find(value, start, end)"
   ]
  },
  {
   "cell_type": "code",
   "execution_count": 101,
   "id": "3d295932",
   "metadata": {},
   "outputs": [
    {
     "name": "stdout",
     "output_type": "stream",
     "text": [
      "Pooja is my name,my name is Pooja, Pooja\n",
      "0\n",
      "28\n"
     ]
    }
   ],
   "source": [
    "print(txt_1)\n",
    "print(txt_1.index(\"Pooja\"))\n",
    "print(txt_1.index(\"Pooja\",10))"
   ]
  },
  {
   "cell_type": "markdown",
   "id": "8e865bde",
   "metadata": {},
   "source": [
    "#### 13. isalnum()\n",
    "- The isalnum() method returns True if all the characters are alphanumeric, meaning alphabet letter (a-z) and numbers (0-9).\n",
    "- syntax : string.isalnum()"
   ]
  },
  {
   "cell_type": "code",
   "execution_count": 113,
   "id": "e0049aa9",
   "metadata": {},
   "outputs": [
    {
     "name": "stdout",
     "output_type": "stream",
     "text": [
      "False\n",
      "True\n"
     ]
    }
   ],
   "source": [
    "text=\"they are nice people, they are going by bus 101\"\n",
    "print(text.isalnum())\n",
    "text1=\"Company101\"\n",
    "print(text1.isalnum())"
   ]
  },
  {
   "cell_type": "markdown",
   "id": "2dc14b5b",
   "metadata": {},
   "source": [
    "#### 14. isalpha()\n",
    "- Returns True if all characters in the string are in the alphabet\n",
    "- Space is calculated as error (if the string as space/tab it will return as false)\n",
    "- syntax : string.isalpha()"
   ]
  },
  {
   "cell_type": "code",
   "execution_count": 122,
   "id": "e8c0005d",
   "metadata": {},
   "outputs": [
    {
     "name": "stdout",
     "output_type": "stream",
     "text": [
      "False\n",
      "False\n",
      "True\n"
     ]
    }
   ],
   "source": [
    "text=\"they are nice people they are going by bus\"\n",
    "print(text.isalpha())\n",
    "text1=\"Company101\"\n",
    "print(text1.isalpha())\n",
    "text2=\"Pooja\"\n",
    "print(text2.isalpha())"
   ]
  },
  {
   "cell_type": "markdown",
   "id": "174b4560",
   "metadata": {},
   "source": [
    "#### 15. isascii()\n",
    "- Returns True if all characters in the string are ascii characters\n",
    "- syntax : string.isascii()\n",
    "- .isascii() checks if every character in the string is a valid ASCII character (codes 0–127).\n",
    "- ASCII includes:\n",
    "\n",
    "- 1. All English letters (A–Z, a–z)\n",
    "\n",
    "- 2. Digits (0–9)\n",
    "\n",
    "- 3. Common punctuation\n",
    "\n",
    "- 4. Whitespace like spaces, tabs, etc."
   ]
  },
  {
   "cell_type": "code",
   "execution_count": 137,
   "id": "0c3aa539",
   "metadata": {},
   "outputs": [
    {
     "name": "stdout",
     "output_type": "stream",
     "text": [
      "True\n",
      "False\n"
     ]
    }
   ],
   "source": [
    "txt = \"Company123\"\n",
    "txt11=\"123😊\" #return false\n",
    "print(txt.isascii())\n",
    "print(txt11.isascii())\n",
    "\n"
   ]
  },
  {
   "cell_type": "markdown",
   "id": "ebc1f749",
   "metadata": {},
   "source": [
    "#### 16. isdecimal\n",
    "- Returns True if all characters in the string are decimals (0-9)\n",
    "- syntax : string.isdecimal()\n",
    "- Works for base-10 digits only.\n",
    "- Mainly used for pure numeric digits."
   ]
  },
  {
   "cell_type": "code",
   "execution_count": 146,
   "id": "539e6c90",
   "metadata": {},
   "outputs": [
    {
     "name": "stdout",
     "output_type": "stream",
     "text": [
      "False\n",
      "True\n",
      "True\n",
      "False\n",
      "False\n",
      "False\n"
     ]
    }
   ],
   "source": [
    "txt=\"Pooja 2000\"\n",
    "txt1=\"2000\"\n",
    "print(txt.isdecimal())     #False\n",
    "print(txt1.isdecimal())    #True\n",
    "print(\"123\".isdecimal())   # True\n",
    "print(\"½\".isdecimal())     # False\n",
    "print(\"²\".isdecimal())     # False\n",
    "print(\"12.3\".isdecimal())  # False (dot is not decimal)\n"
   ]
  },
  {
   "cell_type": "markdown",
   "id": "ebc93ce0",
   "metadata": {},
   "source": [
    "#### 17. isdigit\n",
    "- Returns True if all characters in the string are digits\n",
    "- syntax : string.isdigit()\n",
    "- Returns True if all characters are digits — includes decimal characters and other digit characters like superscripts, subscripts, fractions."
   ]
  },
  {
   "cell_type": "code",
   "execution_count": 147,
   "id": "f3a96a94",
   "metadata": {},
   "outputs": [
    {
     "name": "stdout",
     "output_type": "stream",
     "text": [
      "False\n",
      "True\n",
      "True\n",
      "True\n",
      "False\n",
      "False\n"
     ]
    }
   ],
   "source": [
    "txt=\"Pooja 2000\"\n",
    "txt1=\"2000\"\n",
    "print(txt.isdigit())\n",
    "print(txt1.isdigit())\n",
    "print(\"123\".isdigit())   # True\n",
    "print(\"²\".isdigit())     # True (superscript 2)\n",
    "print(\"½\".isdigit())     # True (vulgar fraction one-half)\n",
    "print(\"12.3\".isdigit())  # False (dot is not digit)\n"
   ]
  },
  {
   "cell_type": "markdown",
   "id": "4878d836",
   "metadata": {},
   "source": [
    "#### 18. isidentifier\n",
    "- Returns True if the string is an identifier\n",
    "- syntax : string.isdemtifier()\n",
    "- Checks if a string is a valid Python identifier.\n",
    "- An identifier is a name you can use for:\n",
    "\n",
    "    1. Variables\n",
    "\n",
    "    2. Functions\n",
    "\n",
    "    3. Classes\n",
    "\n",
    "    4. Modules\n",
    "\n",
    "⚡️ Rules for valid identifiers\n",
    "- A valid identifier:\n",
    "\n",
    "- Can’t be empty\n",
    "\n",
    "- Can only contain letters, digits, and underscores (_)\n",
    "\n",
    "- Must not start with a digit\n",
    "\n",
    "- Can’t contain spaces or special characters\n",
    "\n",
    "- Must not be a Python keyword (if, class, def, etc. — but .isidentifier() does not check for keywords)"
   ]
  },
  {
   "cell_type": "code",
   "execution_count": 149,
   "id": "fc90fd9e",
   "metadata": {},
   "outputs": [
    {
     "name": "stdout",
     "output_type": "stream",
     "text": [
      "True\n",
      "True\n",
      "True\n",
      "False\n",
      "False\n",
      "False\n",
      "True\n"
     ]
    }
   ],
   "source": [
    "print(\"variable\".isidentifier())     # True\n",
    "print(\"_myVar\".isidentifier())       # True\n",
    "print(\"var123\".isidentifier())       # True\n",
    "print(\"123var\".isidentifier())       # False (starts with a digit)\n",
    "print(\"my var\".isidentifier())       # False (space)\n",
    "print(\"my-var\".isidentifier())       # False (hyphen)\n",
    "print(\"class\".isidentifier())        # True (but it's a keyword, so you can't use it as a variable name)\n"
   ]
  },
  {
   "cell_type": "markdown",
   "id": "4998f043",
   "metadata": {},
   "source": [
    "#### 19. islower()\n",
    "- returns the string in lowercase\n",
    "- syntax : string.lower()"
   ]
  },
  {
   "cell_type": "code",
   "execution_count": 151,
   "id": "c2793f5b",
   "metadata": {},
   "outputs": [
    {
     "name": "stdout",
     "output_type": "stream",
     "text": [
      "True\n",
      "False\n",
      "True\n",
      "False\n",
      "False\n"
     ]
    }
   ],
   "source": [
    "text1 = \"hello world\"\n",
    "print(text1.islower())   # True\n",
    "\n",
    "text2 = \"hello World\"\n",
    "print(text2.islower())   # False (capital 'W')\n",
    "\n",
    "text3 = \"123abc\"\n",
    "print(text3.islower())   # True (only letters 'abc' are lowercase)\n",
    "\n",
    "text4 = \"123!@#\"\n",
    "print(text4.islower())   # False (no alphabetic characters)\n",
    "\n",
    "text5 = \"\"\n",
    "print(text5.islower())   # False (empty string)\n"
   ]
  },
  {
   "cell_type": "markdown",
   "id": "fbc012a1",
   "metadata": {},
   "source": [
    "#### 20. isnumeric()\n",
    "- Returns True if all characters in the string are numeric characters.\n",
    "- It checks for:\n",
    "  1. Digits (0–9)\n",
    "  2. Unicode numeric characters (like fractions, superscripts, Roman numerals, etc.)\n",
    "- It’s more general than .isdigit() and .isdecimal().\n",
    "- syntax : string.isnumeric()"
   ]
  },
  {
   "cell_type": "code",
   "execution_count": 152,
   "id": "49000671",
   "metadata": {},
   "outputs": [
    {
     "name": "stdout",
     "output_type": "stream",
     "text": [
      "True\n",
      "True\n",
      "True\n",
      "True\n",
      "False\n",
      "False\n"
     ]
    }
   ],
   "source": [
    "print(\"123\".isnumeric())    # True  → plain digits\n",
    "print(\"Ⅷ\".isnumeric())      # True  → Roman numeral eight\n",
    "print(\"½\".isnumeric())      # True  → fraction one-half\n",
    "print(\"²\".isnumeric())      # True  → superscript two\n",
    "print(\"123.45\".isnumeric()) # False → dot is not numeric\n",
    "print(\"ten\".isnumeric())    # False → letters are not numeric\n"
   ]
  },
  {
   "cell_type": "markdown",
   "id": "43657076",
   "metadata": {},
   "source": [
    "#### 21. isprintable()\n",
    "\n",
    "- Returns True if all characters in the string are printable (including spaces).\n",
    "- syntax : syntax : string.isprintable()\n",
    "\n",
    "- Returns False if the string contains any non-printable characters, like:\n",
    "  1. Newline (\\n)\n",
    "  2. Tab (\\t)\n",
    "  3. Backspace (\\b)\n",
    "  4. Other control characters.\n"
   ]
  },
  {
   "cell_type": "code",
   "execution_count": 153,
   "id": "f849a47e",
   "metadata": {},
   "outputs": [
    {
     "name": "stdout",
     "output_type": "stream",
     "text": [
      "True\n",
      "True\n",
      "False\n",
      "False\n",
      "True\n",
      "True\n"
     ]
    }
   ],
   "source": [
    "text1 = \"Hello World!\"\n",
    "print(text1.isprintable())   # True → all characters are printable\n",
    "\n",
    "text2 = \"12345\"\n",
    "print(text2.isprintable())   # True → digits are printable\n",
    "\n",
    "text3 = \"Hello\\nWorld\"\n",
    "print(text3.isprintable())   # False → contains newline\n",
    "\n",
    "text4 = \"Hello\\tWorld\"\n",
    "print(text4.isprintable())   # False → contains tab\n",
    "\n",
    "text5 = \" \"\n",
    "print(text5.isprintable())   # True → space is printable\n",
    "\n",
    "text6 = \"\"\n",
    "print(text6.isprintable())   # True → empty string is considered printable\n"
   ]
  },
  {
   "cell_type": "markdown",
   "id": "8b59d501",
   "metadata": {},
   "source": [
    "#### 22. isspace()\n",
    "- Returns True if all characters in the string are whitespace characters.\n",
    "- Whitespace includes:\n",
    "\n",
    "  1. Space (`' '`)\n",
    "  2. Tab (`\\t`)\n",
    "  3. Newline (`\\n`)\n",
    "  4. Carriage return (`\\r`)\n",
    "  5. Form feed (`\\f`)\n",
    "  6. Vertical tab (`\\v`)\n",
    "\n"
   ]
  },
  {
   "cell_type": "code",
   "execution_count": 154,
   "id": "b54d80a5",
   "metadata": {},
   "outputs": [
    {
     "name": "stdout",
     "output_type": "stream",
     "text": [
      "'   '.isspace() -> True\n",
      "'\\t\\n'.isspace() -> True\n",
      "' a '.isspace() -> False\n",
      "''.isspace() -> False\n"
     ]
    }
   ],
   "source": [
    "print(\"'   '.isspace() ->\", \"   \".isspace())   # True\n",
    "print(\"'\\\\t\\\\n'.isspace() ->\", \"\\t\\n\".isspace())  # True\n",
    "print(\"' a '.isspace() ->\", \" a \".isspace())   # False\n",
    "print(\"''.isspace() ->\", \"\".isspace())         # False\n"
   ]
  },
  {
   "cell_type": "markdown",
   "id": "e312a7c2",
   "metadata": {},
   "source": [
    "#### 23. istitle()\n",
    "- Returns True if every word in the string starts with an uppercase letter followed by lowercase letters.\n",
    "\n",
    "- Words are separated by whitespace or non-letter characters.\n",
    "\n",
    "- If any word is not title case, it returns False.\n",
    "- syntax : string.istitle()"
   ]
  },
  {
   "cell_type": "code",
   "execution_count": 156,
   "id": "378ab672",
   "metadata": {},
   "outputs": [
    {
     "name": "stdout",
     "output_type": "stream",
     "text": [
      "True\n",
      "False\n",
      "True\n",
      "True\n",
      "False\n",
      "False\n"
     ]
    }
   ],
   "source": [
    "text1 = \"This Is A Title\"\n",
    "print(text1.istitle())  # True → Each word starts with uppercase\n",
    "\n",
    "text2 = \"This is a Title\"\n",
    "print(text2.istitle())  # False → 'is' is all lowercase\n",
    "\n",
    "text3 = \"Hello World!\"\n",
    "print(text3.istitle())  # True → 'Hello' and 'World' are title case\n",
    "\n",
    "text4 = \"Python Programming 101\"\n",
    "print(text4.istitle())  # True → 'Python' and 'Programming' are title, '101' is ignored\n",
    "\n",
    "text5 = \"Python_programming\"\n",
    "print(text5.istitle())  # False → 'programming' is lowercase\n",
    "\n",
    "text6 = \"\"\n",
    "print(text6.istitle())  # False → empty string\n"
   ]
  },
  {
   "cell_type": "markdown",
   "id": "fa71daba",
   "metadata": {},
   "source": [
    "#### 24. isupper()\n",
    "- Returns True if all the alphabetic characters in the string are uppercase.\n",
    "- Non-alphabetic characters (numbers, spaces, symbols) are ignored — they don’t affect the result.\n",
    "- If there are no alphabetic characters at all, it returns False.\n",
    "- syntax: string.isupper()"
   ]
  },
  {
   "cell_type": "code",
   "execution_count": 157,
   "id": "94db9c91",
   "metadata": {},
   "outputs": [
    {
     "name": "stdout",
     "output_type": "stream",
     "text": [
      "True\n",
      "False\n",
      "False\n",
      "True\n",
      "False\n"
     ]
    }
   ],
   "source": [
    "text1 = \"HELLO WORLD\"\n",
    "print(text1.isupper())   # True → all letters uppercase\n",
    "\n",
    "text2 = \"HELLO world\"\n",
    "print(text2.isupper())   # False → 'world' is lowercase\n",
    "\n",
    "text3 = \"12345!\"\n",
    "print(text3.isupper())   # False → no letters\n",
    "\n",
    "text4 = \"WELCOME123\"\n",
    "print(text4.isupper())   # True → letters are uppercase, digits ignored\n",
    "\n",
    "text5 = \"\"\n",
    "print(text5.isupper())   # False → empty string\n"
   ]
  },
  {
   "cell_type": "markdown",
   "id": "c6c06f06",
   "metadata": {},
   "source": [
    "#### 25. join()\n",
    "- Combines (joins) a sequence of strings into one string, with a separator in between.\n",
    "- The separator is the string you call .join() on.\n",
    "- syntax: string.join(iterable)\n",
    "    1. separator → The string to insert between each element.\n",
    "    2. iterable_of_strings → Usually a list, tuple, or any iterable containing only strings.\n",
    "- When to use .join()\n",
    "    1. Build a sentence from words.\n",
    "\n",
    "    2. Combine lines into a big text block.\n",
    "\n",
    "    3. Create CSV-style strings.\n",
    "\n",
    "    4. Insert any custom separator (comma, newline, dash, etc.)\n",
    "    \n",
    " - All elements must be strings — joining a list with non-strings will raise an error.\n",
    "\n"
   ]
  },
  {
   "cell_type": "code",
   "execution_count": 158,
   "id": "8c0cabb4",
   "metadata": {},
   "outputs": [
    {
     "name": "stdout",
     "output_type": "stream",
     "text": [
      "Python is fun\n"
     ]
    }
   ],
   "source": [
    "#Join a list with spaces\n",
    "words = [\"Python\", \"is\", \"fun\"]\n",
    "result = \" \".join(words)\n",
    "print(result)  # Output: Python is fun\n"
   ]
  },
  {
   "cell_type": "code",
   "execution_count": 160,
   "id": "36b1fefd",
   "metadata": {},
   "outputs": [
    {
     "name": "stdout",
     "output_type": "stream",
     "text": [
      "2025-07-04\n"
     ]
    }
   ],
   "source": [
    "#Join with hyphens\n",
    "parts = [\"2025\", \"07\", \"04\"]\n",
    "date = \"-\".join(parts)\n",
    "print(date)  # Output: 2025-07-04\n"
   ]
  },
  {
   "cell_type": "code",
   "execution_count": 161,
   "id": "8166070f",
   "metadata": {},
   "outputs": [
    {
     "name": "stdout",
     "output_type": "stream",
     "text": [
      "Hello\n"
     ]
    }
   ],
   "source": [
    "#Join with no separators\n",
    "chars = [\"H\", \"e\", \"l\", \"l\", \"o\"]\n",
    "word = \"\".join(chars)\n",
    "print(word)  # Output: Hello\n"
   ]
  },
  {
   "cell_type": "code",
   "execution_count": 162,
   "id": "2e0575fb",
   "metadata": {},
   "outputs": [
    {
     "name": "stdout",
     "output_type": "stream",
     "text": [
      "Line 1\n",
      "Line 2\n",
      "Line 3\n"
     ]
    }
   ],
   "source": [
    "# Join with new line\n",
    "lines = [\"Line 1\", \"Line 2\", \"Line 3\"]\n",
    "text = \"\\n\".join(lines)\n",
    "print(text)\n",
    "# Output:\n",
    "# Line 1\n",
    "# Line 2\n",
    "# Line 3\n"
   ]
  },
  {
   "cell_type": "markdown",
   "id": "6f00f188",
   "metadata": {},
   "source": [
    "#### 26. ljust()\n",
    "- Returns a left-justified version of the string.\n",
    "- Pads the string on the right with a specified fill character (default is a space ' ').\n",
    "- Useful for formatting text in columns.\n",
    "- Syntax : string.ljust(width, fillchar)\n",
    "    1. width → The total length of the resulting string.\n",
    "    2. fillchar → (Optional) The character to pad with. Default is a space."
   ]
  },
  {
   "cell_type": "code",
   "execution_count": 170,
   "id": "0304f7fd",
   "metadata": {},
   "outputs": [
    {
     "name": "stdout",
     "output_type": "stream",
     "text": [
      "'Python              '\n",
      "'AI---'\n",
      "'Machine Learning'\n"
     ]
    }
   ],
   "source": [
    "#Pad with spaces\n",
    "text = \"Python\"\n",
    "result = text.ljust(20)\n",
    "print(f\"'{result}'\")  # Output: 'Python   '\n",
    "\n",
    "\n",
    "#Pad with custome characters\n",
    "text = \"AI\"\n",
    "result = text.ljust(5, '-')\n",
    "print(f\"'{result}'\")  # Output: 'AI---'\n",
    "\n",
    "\n",
    "# Width shorter than string (If width is less than the string’s length, the original string is returned unchanged.)\n",
    "text = \"Machine Learning\"\n",
    "result = text.ljust(5)\n",
    "print(f\"'{result}'\")  # Output: 'Machine Learning'\n",
    "\n"
   ]
  },
  {
   "cell_type": "markdown",
   "id": "95e7d4fa",
   "metadata": {},
   "source": [
    "#### 27. lstrip()\n",
    "- Removes leading (left-side) whitespace by default.\n",
    "\n",
    "- Optionally, you can tell it which characters to remove from the left.\n",
    "\n",
    "- It does not affect the right side.\n",
    "- syntax : string.lstrip([chars])\n",
    "   1. chars → Optional string of characters to remove.\n",
    "    2. If omitted, .lstrip() removes spaces, tabs, newlines, etc. on the left side."
   ]
  },
  {
   "cell_type": "code",
   "execution_count": 173,
   "id": "836935e2",
   "metadata": {},
   "outputs": [
    {
     "name": "stdout",
     "output_type": "stream",
     "text": [
      "'Python'\n",
      "'Hello'\n",
      "python.org\n",
      "'Python   '\n"
     ]
    }
   ],
   "source": [
    "#remove leading spaces\n",
    "text = \"   Python\"\n",
    "result = text.lstrip()\n",
    "print(f\"'{result}'\")  # Output: 'Python'\n",
    "\n",
    "#remove leading tabs or newlines\n",
    "text = \"\\n\\t  Hello\"\n",
    "result = text.lstrip()\n",
    "print(f\"'{result}'\")  # Output: 'Hello'\n",
    "\n",
    "# Remove specific characters\n",
    "text = \"www.python.org\"\n",
    "result = text.lstrip(\"w.\")\n",
    "print(result)  # Output: 'python.org'\n",
    "\n",
    "# Right side stays unchanged\n",
    "text = \"   Python   \"\n",
    "result = text.lstrip()\n",
    "print(f\"'{result}'\")  # Output: 'Python   '\n"
   ]
  },
  {
   "cell_type": "markdown",
   "id": "711bbec6",
   "metadata": {},
   "source": [
    "#### 28. maketrans()\n",
    "- str.maketrans() creates a translation table — a mapping that tells Python how to replace specific characters in a string.\n",
    "- Used together with .translate() to actually apply the replacements.\n",
    "- syntax : table = str.maketrans(from_chars, to_chars)\n",
    "            new_string = old_string.translate(table)\n",
    "    1. from_chars: A string of characters you want to replace.\n",
    "\n",
    "    2. to_chars: A string of replacement characters, must be same length as from_chars.\n",
    "\n"
   ]
  },
  {
   "cell_type": "code",
   "execution_count": 175,
   "id": "382fc93e",
   "metadata": {},
   "outputs": [
    {
     "name": "stdout",
     "output_type": "stream",
     "text": [
      "Original: abc cab\n",
      "Translated: 123 312\n",
      "\n",
      "---\n",
      "Original: Hello, World.\n",
      "Translated: Hello World\n",
      "\n",
      "---\n",
      "Original: abc\n",
      "Translated: ABc\n",
      "\n",
      "---\n",
      "Original: This is a test\n",
      "No vowels: Ths s  tst\n"
     ]
    }
   ],
   "source": [
    "\n",
    "# Basic character replacement\n",
    "table1 = str.maketrans(\"abc\", \"123\")\n",
    "text1 = \"abc cab\"\n",
    "print(\"Original:\", text1)\n",
    "print(\"Translated:\", text1.translate(table1))  # Output: '123 312'\n",
    "\n",
    "print(\"\\n---\")\n",
    "\n",
    "# Remove specific characters\n",
    "# Syntax: maketrans('', '', chars_to_delete)\n",
    "table2 = str.maketrans(\"\", \"\", \",.\")\n",
    "text2 = \"Hello, World.\"\n",
    "print(\"Original:\", text2)\n",
    "print(\"Translated:\", text2.translate(table2))  # Output: 'Hello World'\n",
    "\n",
    "print(\"\\n---\")\n",
    "\n",
    "# Using a dictionary\n",
    "table3 = str.maketrans({\"a\": \"A\", \"b\": \"B\"})\n",
    "text3 = \"abc\"\n",
    "print(\"Original:\", text3)\n",
    "print(\"Translated:\", text3.translate(table3))  # Output: 'ABc'\n",
    "\n",
    "print(\"\\n---\")\n",
    "\n",
    "# Remove vowels\n",
    "table4 = str.maketrans(\"\", \"\", \"aeiou\")\n",
    "text4 = \"This is a test\"\n",
    "print(\"Original:\", text4)\n",
    "print(\"No vowels:\", text4.translate(table4))  # Output: 'Ths s  tst'\n"
   ]
  },
  {
   "cell_type": "markdown",
   "id": "67e9a8fe",
   "metadata": {},
   "source": [
    "#### 29. partition()\n",
    "- Splits a string into three parts:\n",
    "    1. The part before the separator\n",
    "    2. The separator itself\n",
    "    3.The part after the separator\n",
    "- Returns a tuple of 3 elements: (before, separator, after)\n",
    "- Only splits at the first occurrence of the separator.\n",
    "- syntax : string.partition(separator)\n",
    "    1. separator → The substring you want to split at.\n",
    "    2. If the separator is not found, it returns: (original_string, '', '')"
   ]
  },
  {
   "cell_type": "code",
   "execution_count": 189,
   "id": "652f1f09",
   "metadata": {},
   "outputs": [
    {
     "name": "stdout",
     "output_type": "stream",
     "text": [
      "('Hello', ', ', 'world!')\n",
      "----------------------\n",
      "('Python Programming', '', '')\n",
      "----------------------\n",
      "Before: https\n",
      "Separator: ://\n",
      "After: www.example.com\n",
      "----------------------\n",
      "('one', ', ', 'two, three')\n"
     ]
    }
   ],
   "source": [
    "text = \"Hello, world!\"\n",
    "result = text.partition(\", \")\n",
    "print(result) \n",
    "print(\"----------------------\")\n",
    "\n",
    "#separator not found\n",
    "text1 = \"Python Programming\"\n",
    "result = text1.partition(\"Java\")\n",
    "print(result)\n",
    "\n",
    "print(\"----------------------\")\n",
    "#with assignments\n",
    "url = \"https://www.example.com\"\n",
    "before, sep, after = url.partition(\"://\")\n",
    "print(\"Before:\", before)  \n",
    "print(\"Separator:\", sep)  \n",
    "print(\"After:\", after)  \n",
    "print(\"----------------------\")\n",
    "\n",
    "#with multiple occurence\n",
    "text = \"one, two, three\"\n",
    "print(text.partition(\", \"))  # Splits only at the first ', '\n",
    "\n"
   ]
  },
  {
   "cell_type": "markdown",
   "id": "223093dd",
   "metadata": {},
   "source": [
    "#### 30. removeprefix()\n",
    "- removeprefix() removes a prefix (a starting substring) if it exists.\n",
    "- If the string starts with the prefix → it’s removed.\n",
    "- If the string doesn’t start with the prefix → nothing happens; the original string is returned.\n",
    "- Syntax : new_string = original_string.removeprefix(prefix)\n",
    "    1. prefix → the exact starting text to remove."
   ]
  },
  {
   "cell_type": "code",
   "execution_count": 192,
   "id": "6f3b181f",
   "metadata": {},
   "outputs": [
    {
     "name": "stdout",
     "output_type": "stream",
     "text": [
      "happy\n",
      "happy\n",
      "www.example.com\n"
     ]
    }
   ],
   "source": [
    "#If prefix is present\n",
    "word = \"unhappy\"\n",
    "result = word.removeprefix(\"un\")\n",
    "print(result)  \n",
    "\n",
    "#  If the prefix isn’t there:\n",
    "word = \"happy\"\n",
    "result = word.removeprefix(\"un\")\n",
    "print(result)  \n",
    "\n",
    "url = \"https://www.example.com\"\n",
    "clean_url = url.removeprefix(\"https://\")\n",
    "print(clean_url)\n"
   ]
  },
  {
   "cell_type": "code",
   "execution_count": 191,
   "id": "e373a91b",
   "metadata": {},
   "outputs": [
    {
     "name": "stdout",
     "output_type": "stream",
     "text": [
      "verse\n",
      "universe\n"
     ]
    }
   ],
   "source": [
    "word = \"universe\"\n",
    "result = word.removeprefix(\"uni\")\n",
    "print(result)  # Output: 'verse'\n",
    "\n",
    "#if prefix doesn't match exactly\n",
    "result2 = word.removeprefix(\"Uni\")\n",
    "print(result2)  # Output: 'universe' (case sensitive!)\n"
   ]
  },
  {
   "cell_type": "markdown",
   "id": "89fbbd7a",
   "metadata": {},
   "source": [
    "#### 31. removesuffix()\n",
    "- .removesuffix() removes a suffix (ending text) if it’s there.\n",
    "- If the string ends with that suffix → it removes it.\n",
    "\n",
    "- If not → the string stays the same.\n",
    "- Syntax: new_string = original_string.removesuffix(suffix)\n"
   ]
  },
  {
   "cell_type": "code",
   "execution_count": 194,
   "id": "96056da3",
   "metadata": {},
   "outputs": [
    {
     "name": "stdout",
     "output_type": "stream",
     "text": [
      "filename\n",
      "filename.doc\n"
     ]
    }
   ],
   "source": [
    "#if suffix is present\n",
    "word = \"filename.txt\"\n",
    "result = word.removesuffix(\".txt\")\n",
    "print(result)  \n",
    "\n",
    "#if suffix is not present\n",
    "word = \"filename.doc\"\n",
    "result = word.removesuffix(\".txt\")\n",
    "print(result)  \n"
   ]
  },
  {
   "cell_type": "markdown",
   "id": "5d14013f",
   "metadata": {},
   "source": [
    "#### 32. replace()\n",
    "- .replace() replaces all occurrences of a substring with another substring.\n",
    "- You can also choose to limit how many times it should replace.\n",
    "- syntax: new_string = original_string.replace(old, new, count)\n",
    "    1. old → The text you want to replace.\n",
    "    2. new → The text you want to put instead.\n",
    "    3. count → (Optional) The number of replacements to make. If not given, replaces all."
   ]
  },
  {
   "cell_type": "code",
   "execution_count": 196,
   "id": "cecf50f3",
   "metadata": {},
   "outputs": [
    {
     "name": "stdout",
     "output_type": "stream",
     "text": [
      "Original: 'I like apples. Apples are sweet.'\n",
      "Replaced: 'I like oranges. Apples are sweet.'\n",
      "\n",
      "---\n",
      "Replaced 'Apples': 'I like apples. Oranges are sweet.'\n",
      "\n",
      "---\n",
      "Original: 'one one one one'\n",
      "Replaced (2 times): 'two two one one'\n"
     ]
    }
   ],
   "source": [
    "# Replace all\n",
    "text1 = \"I like apples. Apples are sweet.\"\n",
    "result1 = text1.replace(\"apples\", \"oranges\")\n",
    "print(f\"Original: '{text1}'\")\n",
    "print(f\"Replaced: '{result1}'\")\n",
    "\n",
    "print(\"\\n---\")\n",
    "\n",
    "# Replace all (case sensitive)\n",
    "result2 = text1.replace(\"Apples\", \"Oranges\")\n",
    "print(f\"Replaced 'Apples': '{result2}'\")\n",
    "\n",
    "print(\"\\n---\")\n",
    "\n",
    "# Replace with count\n",
    "text2 = \"one one one one\"\n",
    "result3 = text2.replace(\"one\", \"two\", 2)\n",
    "print(f\"Original: '{text2}'\")\n",
    "print(f\"Replaced (2 times): '{result3}'\")\n"
   ]
  },
  {
   "cell_type": "markdown",
   "id": "5ed5873d",
   "metadata": {},
   "source": [
    "#### 33. rfind()\n",
    "- rfind() searches for a substring inside a string.\n",
    "- It returns the highest index (the last occurrence) where the substring is found.\n",
    "- If the substring is not found, it returns -1.\n",
    "- syntax: index = string.rfind(substring, start, end)\n",
    "    1. substring → The text you want to find.\n",
    "\n",
    "    2. start → (Optional) Where to start searching.\n",
    "\n",
    "    3. end → (Optional) Where to stop searching.\n",
    "\n"
   ]
  },
  {
   "cell_type": "code",
   "execution_count": 198,
   "id": "c7802b7b",
   "metadata": {},
   "outputs": [
    {
     "name": "stdout",
     "output_type": "stream",
     "text": [
      "Original: 'banana'\n",
      "rfind('a'): 5\n",
      "\n",
      "----------\n",
      "rfind('z'): -1\n",
      "\n",
      "----------\n",
      "rfind('a', 0, 4): 3\n",
      "\n",
      "----------\n",
      "find('a'): 1\n"
     ]
    }
   ],
   "source": [
    "# Example 1: Find last \"a\"\n",
    "text1 = \"banana\"\n",
    "print(f\"Original: '{text1}'\")\n",
    "print(f\"rfind('a'): {text1.rfind('a')}\")  \n",
    "\n",
    "print(\"\\n----------\")\n",
    "\n",
    "# Example 2: Not found\n",
    "text2 = \"hello\"\n",
    "print(f\"rfind('z'): {text2.rfind('z')}\")  \n",
    "\n",
    "print(\"\\n----------\")\n",
    "\n",
    "# Example 3: With start and end\n",
    "text3 = \"banana\"\n",
    "print(f\"rfind('a', 0, 4): {text3.rfind('a', 0, 4)}\")  \n",
    "print(\"\\n----------\")\n",
    "\n",
    "# Compare with .find()\n",
    "print(f\"find('a'): {text3.find('a')}\")  \n"
   ]
  },
  {
   "cell_type": "markdown",
   "id": "1ad841c8",
   "metadata": {},
   "source": [
    "#### 34. rindex()\n",
    "- rindex() is almost the same as .rfind().\n",
    "- It returns the index of the last occurrence of a substring.\n",
    "- BUT: If the substring is not found, .rindex() raises a ValueError instead of -1.\n",
    "- syntax: index = string.rindex(substring, start, end)\n",
    "    1. substring → The text you want to find.\n",
    "    2. start → (Optional) Where to start searching.\n",
    "    3. end → (Optional) Where to stop searching."
   ]
  },
  {
   "cell_type": "code",
   "execution_count": 200,
   "id": "7fefda93",
   "metadata": {},
   "outputs": [
    {
     "name": "stdout",
     "output_type": "stream",
     "text": [
      "Original: 'banana'\n",
      "rfind('a'): 5\n",
      "rindex('a'): 5\n",
      "\n",
      "---\n",
      "rfind('z'): -1\n",
      "rindex('z') raises: substring not found\n"
     ]
    }
   ],
   "source": [
    "text = \"banana\"\n",
    "print(f\"Original: '{text}'\")\n",
    "\n",
    "# rfind: returns -1 if not found\n",
    "print(f\"rfind('a'): {text.rfind('a')}\")   # 5\n",
    "\n",
    "# rindex: returns index or raises error\n",
    "print(f\"rindex('a'): {text.rindex('a')}\") # 5\n",
    "\n",
    "print(\"\\n---\")\n",
    "\n",
    "# rfind when not found\n",
    "print(f\"rfind('z'): {text.rfind('z')}\")   # -1\n",
    "\n",
    "# rindex when not found (will raise ValueError)\n",
    "try:\n",
    "    print(text.rindex('z'))\n",
    "except ValueError as e:\n",
    "    print(f\"rindex('z') raises: {e}\")\n"
   ]
  },
  {
   "cell_type": "markdown",
   "id": "5e8bb24a",
   "metadata": {},
   "source": [
    "#### 35. rjust()\n",
    "- rjust() means right-justify a string.\n",
    "- It pads the left side with spaces (or any character you choose) so the final string has the desired length.\n",
    "- Good for aligning text in tables!\n",
    "- syntax : new_string = string.rjust(width, fillchar)\n",
    "     1. width → total length you want.\n",
    "    2. fillchar → (optional) what to pad with (default is space)."
   ]
  },
  {
   "cell_type": "code",
   "execution_count": 204,
   "id": "033ebb03",
   "metadata": {},
   "outputs": [
    {
     "name": "stdout",
     "output_type": "stream",
     "text": [
      "'Python' rjust(10): '    Python'\n",
      "'42' rjust(10, '0'): '0000000042'\n",
      "'HelloWorld' rjust(5): 'HelloWorld'\n"
     ]
    }
   ],
   "source": [
    "text1 = \"Python\"\n",
    "print(f\"'{text1}' rjust(10): '{text1.rjust(10)}'\")  # '    Python'\n",
    "\n",
    "# With custom fill\n",
    "number = \"42\"\n",
    "print(f\"'{number}' rjust(10, '0'): '{number.rjust(10, '0')}'\")  # '00042'\n",
    "\n",
    "# Already long enough\n",
    "long_text = \"HelloWorld\"\n",
    "print(f\"'{long_text}' rjust(5): '{long_text.rjust(5)}'\")  # 'HelloWorld'\n"
   ]
  },
  {
   "cell_type": "code",
   "execution_count": null,
   "id": "7666dfed",
   "metadata": {},
   "outputs": [],
   "source": []
  },
  {
   "cell_type": "markdown",
   "id": "45cda3d4",
   "metadata": {},
   "source": [
    "#### 36. rpartition()\n",
    "- rpartition() splits a string into three parts:\n",
    "    1. Part before the last occurrence of the separator\n",
    "    2. The separator itself\n",
    "    3. Part after the separator\n",
    "- If the separator is not found, it returns: ( '', '', original_string )\n",
    "- syntax: result = string.rpartition(separator)\n",
    "\n"
   ]
  },
  {
   "cell_type": "code",
   "execution_count": 205,
   "id": "06de76f5",
   "metadata": {},
   "outputs": [
    {
     "name": "stdout",
     "output_type": "stream",
     "text": [
      "Original: 'one two three'\n",
      "rpartition(' '): ('one two', ' ', 'three')\n",
      "\n",
      "---\n",
      "rpartition(','): ('', '', 'hello')\n",
      "\n",
      "---\n",
      "partition(','): ('apple', ',', 'banana,cherry')\n",
      "rpartition(','): ('apple,banana', ',', 'cherry')\n"
     ]
    }
   ],
   "source": [
    "\n",
    "# Last space\n",
    "text1 = \"one two three\"\n",
    "print(f\"Original: '{text1}'\")\n",
    "print(f\"rpartition(' '): {text1.rpartition(' ')}\")\n",
    "\n",
    "print(\"\\n---\")\n",
    "\n",
    "# Not found\n",
    "text2 = \"hello\"\n",
    "print(f\"rpartition(','): {text2.rpartition(',')}\")\n",
    "\n",
    "print(\"\\n---\")\n",
    "\n",
    "# Compare with partition()\n",
    "text3 = \"apple,banana,cherry\"\n",
    "print(f\"partition(','): {text3.partition(',')}\")\n",
    "print(f\"rpartition(','): {text3.rpartition(',')}\")\n"
   ]
  },
  {
   "cell_type": "markdown",
   "id": "0d9d1111",
   "metadata": {},
   "source": [
    "#### 37. rsplit ()\n",
    "- rsplit() splits a string from the right side.\n",
    "- It works just like .split() — but it starts splitting from the end.\n",
    "- handy when you want to control how many splits happen starting at the right.\n",
    "- syntax: string.rsplit(sep=None, maxsplit=-1)\n",
    "    1. sep → the separator to split on (default: any whitespace).\n",
    "    2. maxsplit → max number of splits to do.\n",
    "    3. If maxsplit is -1 (default) → split all occurrences."
   ]
  },
  {
   "cell_type": "code",
   "execution_count": 207,
   "id": "d370154e",
   "metadata": {},
   "outputs": [
    {
     "name": "stdout",
     "output_type": "stream",
     "text": [
      "Original: 'apple,banana,cherry,orange'\n",
      "rsplit(','): ['apple', 'banana', 'cherry', 'orange']\n",
      "rsplit(',', 1): ['apple,banana,cherry', 'orange']\n",
      "rsplit(',', 2): ['apple,banana', 'cherry', 'orange']\n",
      "\n",
      "---\n",
      "split(',', 2): ['apple', 'banana', 'cherry,orange']\n",
      "rsplit(): ['one', 'two', 'three']\n"
     ]
    }
   ],
   "source": [
    "text1 = \"apple,banana,cherry,orange\"\n",
    "\n",
    "# No maxsplit → split all\n",
    "print(f\"Original: '{text1}'\")\n",
    "print(\"rsplit(','):\", text1.rsplit(\",\"))  \n",
    "\n",
    "\n",
    "# Limit to 1 split from right\n",
    "print(\"rsplit(',', 1):\", text1.rsplit(\",\", 1))  \n",
    "\n",
    "\n",
    "# Limit to 2 splits from right\n",
    "print(\"rsplit(',', 2):\", text1.rsplit(\",\", 2))  \n",
    "\n",
    "\n",
    "print(\"\\n---\")\n",
    "\n",
    "# Compare with split()\n",
    "print(\"split(',', 2):\", text1.split(\",\", 2))  \n",
    "\n",
    "# No separator (default: whitespace)\n",
    "text2 = \"one two three\"\n",
    "print(\"rsplit():\", text2.rsplit())  \n"
   ]
  },
  {
   "cell_type": "markdown",
   "id": "6170f170",
   "metadata": {},
   "source": [
    "#### 38. rstrip()\n",
    "- .rstrip() means right strip.\n",
    "- It removes trailing (right-side) whitespace or specific characters from the end of a string.\n",
    "- The original string stays the same — it returns a new string.\n",
    "- syntax : new_string = string.rstrip([chars])\n",
    "    1.chars → (optional) A set of characters to remove.\n",
    "    2. If not given, it removes spaces, tabs, newlines, etc.\n",
    "\n",
    "\n"
   ]
  },
  {
   "cell_type": "code",
   "execution_count": 208,
   "id": "a5541008",
   "metadata": {},
   "outputs": [
    {
     "name": "stdout",
     "output_type": "stream",
     "text": [
      "Before: 'Python   '\n",
      "After rstrip(): 'Python'\n",
      "\n",
      "---\n",
      "Before: 'report.pdf\n",
      "\n",
      "'\n",
      "After rstrip('\\n'): 'report.pdf'\n",
      "Before: 'example.com////'\n",
      "After rstrip('/'): 'example.com'\n",
      "\n",
      "---\n",
      "Original: '   hello   '\n",
      "rstrip(): '   hello'\n",
      "strip(): 'hello'\n"
     ]
    }
   ],
   "source": [
    "# Example 1: Remove trailing spaces\n",
    "text1 = \"Python   \"\n",
    "print(f\"Before: '{text1}'\")\n",
    "print(f\"After rstrip(): '{text1.rstrip()}'\")\n",
    "\n",
    "print(\"\\n---\")\n",
    "\n",
    "# Example 2: Remove specific chars\n",
    "file = \"report.pdf\\n\\n\"\n",
    "print(f\"Before: '{file}'\")\n",
    "print(f\"After rstrip('\\\\n'): '{file.rstrip()}'\")\n",
    "\n",
    "url = \"example.com////\"\n",
    "print(f\"Before: '{url}'\")\n",
    "print(f\"After rstrip('/'): '{url.rstrip('/')}'\")\n",
    "\n",
    "print(\"\\n---\")\n",
    "\n",
    "# Compare strip()\n",
    "both_sides = \"   hello   \"\n",
    "print(f\"Original: '{both_sides}'\")\n",
    "print(f\"rstrip(): '{both_sides.rstrip()}'\")\n",
    "print(f\"strip(): '{both_sides.strip()}'\")\n"
   ]
  },
  {
   "cell_type": "markdown",
   "id": "89902790",
   "metadata": {},
   "source": [
    "#### 39. split()\n",
    "- .split() breaks a string into a list of parts (substrings).\n",
    "\n",
    "- It splits wherever it finds a separator you give it.\n",
    "\n",
    "- If you don’t give a separator, it splits on any whitespace (space, tab, newline).\n",
    "- syntax : result = string.split(sep=None, maxsplit=-1)\n",
    "    1. sep: (Optional) The separator to split on.\n",
    "    2. maxsplit: (Optional) How many splits to do. If -1 → split all."
   ]
  },
  {
   "cell_type": "code",
   "execution_count": 210,
   "id": "195e6304",
   "metadata": {},
   "outputs": [
    {
     "name": "stdout",
     "output_type": "stream",
     "text": [
      "Original: 'Python is fun'\n",
      "split(): ['Python', 'is', 'fun']\n",
      "\n",
      "---\n",
      "Original: 'apple,banana,cherry'\n",
      "split(','): ['apple', 'banana', 'cherry']\n",
      "\n",
      "---\n",
      "Original: 'one two three four'\n",
      "split(' ', 2): ['one', 'two', 'three four']\n",
      "\n",
      "---\n",
      "split(','): ['hello']\n"
     ]
    }
   ],
   "source": [
    "# Default: split on whitespace\n",
    "text1 = \"Python is fun\"\n",
    "print(f\"Original: '{text1}'\")\n",
    "print(\"split():\", text1.split())  \n",
    "\n",
    "print(\"\\n---\")\n",
    "\n",
    "#Split on comma\n",
    "text2 = \"apple,banana,cherry\"\n",
    "print(f\"Original: '{text2}'\")\n",
    "print(\"split(','):\", text2.split(\",\"))  \n",
    "\n",
    "print(\"\\n---\")\n",
    "\n",
    "#Limit splits\n",
    "text3 = \"one two three four\"\n",
    "print(f\"Original: '{text3}'\")\n",
    "print(\"split(' ', 2):\", text3.split(\" \", 2))  \n",
    "\n",
    "print(\"\\n---\")\n",
    "\n",
    "#Separator not found\n",
    "text4 = \"hello\"\n",
    "print(f\"split(','):\", text4.split(\",\")) \n"
   ]
  },
  {
   "cell_type": "markdown",
   "id": "a71faa6b",
   "metadata": {},
   "source": [
    "#### 40. splitlines\n",
    "- .splitlines() splits a string into a list of lines.\n",
    "- It breaks the string wherever it finds line breaks: \\n (newline), \\r (carriage return), or \\r\\n.\n",
    "- Useful for reading text files or multi-line strings.\n",
    "- syntax : result = string.splitlines(keepends=False)\n",
    "    1. keepends: (Optional)\n",
    "        1. False → line breaks are not included (default).\n",
    "        2. True → line breaks are kept in the result."
   ]
  },
  {
   "cell_type": "code",
   "execution_count": 213,
   "id": "5f19696d",
   "metadata": {},
   "outputs": [
    {
     "name": "stdout",
     "output_type": "stream",
     "text": [
      "Original:\n",
      "Line 1\n",
      "Line 2\n",
      "Line 3\n",
      "splitlines(): ['Line 1', 'Line 2', 'Line 3']\n",
      "\n",
      "---\n",
      "splitlines(True): ['A\\n', 'B\\n', 'C']\n",
      "\n",
      "---\n",
      "splitlines(): ['First line', 'Second line', 'Third line']\n",
      "splitlines(): []\n"
     ]
    }
   ],
   "source": [
    "# Example 1: Basic splitlines()\n",
    "text1 = \"Line 1\\nLine 2\\nLine 3\"\n",
    "print(f\"Original:\\n{text1}\")\n",
    "print(\"splitlines():\", text1.splitlines())  \n",
    "\n",
    "print(\"\\n---\")\n",
    "\n",
    "# Example 2: Keep line endings\n",
    "text2 = \"A\\nB\\nC\"\n",
    "print(\"splitlines(True):\", text2.splitlines(True)) \n",
    "\n",
    "print(\"\\n---\")\n",
    "\n",
    "# Example 3: Different line breaks\n",
    "text3 = \"First line\\rSecond line\\r\\nThird line\"\n",
    "print(\"splitlines():\", text3.splitlines())  \n",
    "# Example 4: Empty string\n",
    "empty = \"\"\n",
    "print(\"splitlines():\", empty.splitlines()) \n"
   ]
  },
  {
   "cell_type": "markdown",
   "id": "0bd17b22",
   "metadata": {},
   "source": [
    "#### 41. startswith()\n",
    "- Returns  true the string starts with specified value\n",
    "- syntax - string.with(value, start, end)"
   ]
  },
  {
   "cell_type": "code",
   "execution_count": 84,
   "id": "f868aba0",
   "metadata": {},
   "outputs": [
    {
     "name": "stdout",
     "output_type": "stream",
     "text": [
      "Pooja is my name,my name is Pooja, Pooja\n",
      "True\n",
      "False\n"
     ]
    }
   ],
   "source": [
    "print(txt_1)\n",
    "print(txt_1.startswith('Pooja'))\n",
    "print(txt_1.startswith('Piya'))"
   ]
  },
  {
   "cell_type": "markdown",
   "id": "b9f8f219",
   "metadata": {},
   "source": [
    "#### 42. strip()\n",
    "- .strip() removes whitespace (or other specified characters) from both ends (left and right) of a string.\n",
    "- By default, it removes spaces, tabs, newlines, etc.\n",
    "- It does not touch characters inside the string — only at the edges.\n",
    "- syntax : new_string = string.strip([chars])\n",
    "    1.chars → (Optional) A string of characters to remove from both ends.\n",
    "    2.If omitted → removes all whitespace characters."
   ]
  },
  {
   "cell_type": "code",
   "execution_count": 215,
   "id": "e41999af",
   "metadata": {},
   "outputs": [
    {
     "name": "stdout",
     "output_type": "stream",
     "text": [
      "Original: '   Python   '\n",
      "After strip(): 'Python'\n",
      "\n",
      "---\n",
      "Original: 'www.example.com'\n",
      "After strip('w.'): 'example.com''\n",
      "\n",
      "---\n",
      "Original: '   Hello World   '\n",
      "lstrip(): 'Hello World   '\n",
      "rstrip(): '   Hello World'\n",
      "strip(): 'Hello World'\n"
     ]
    }
   ],
   "source": [
    "# Example 1: Remove spaces\n",
    "text1 = \"   Python   \"\n",
    "print(f\"Original: '{text1}'\")\n",
    "print(f\"After strip(): '{text1.strip()}'\")\n",
    "\n",
    "print(\"\\n---\")\n",
    "\n",
    "# Example 2: Remove specific characters\n",
    "text2 = \"www.example.com\"\n",
    "print(f\"Original: '{text2}'\")\n",
    "print(f\"After strip('w.'): '{text2.strip('w.')}''\")\n",
    "\n",
    "print(\"\\n---\")\n",
    "\n",
    "# Example 3: Compare with lstrip() and rstrip()\n",
    "text3 = \"   Hello World   \"\n",
    "print(f\"Original: '{text3}'\")\n",
    "print(f\"lstrip(): '{text3.lstrip()}'\")\n",
    "print(f\"rstrip(): '{text3.rstrip()}'\")\n",
    "print(f\"strip(): '{text3.strip()}'\")\n"
   ]
  },
  {
   "cell_type": "markdown",
   "id": "a438e037",
   "metadata": {},
   "source": [
    "### 43. swapcase()\n",
    "- swapcase() swaps the case of every letter in a string.\n",
    "- Uppercase → lowercase\n",
    "- Lowercase → uppercase\n",
    "- Other characters (numbers, punctuation, spaces) stay the same."
   ]
  },
  {
   "cell_type": "code",
   "execution_count": 217,
   "id": "a8bfdb8f",
   "metadata": {},
   "outputs": [
    {
     "name": "stdout",
     "output_type": "stream",
     "text": [
      "Original: 'Hello World'\n",
      "swapcase(): 'hELLO wORLD'\n",
      "\n",
      "---\n",
      "Original: 'PyThOn 3.10!'\n",
      "swapcase(): 'pYtHoN 3.10!'\n",
      "\n",
      "---\n",
      "Original: '12345!@#'\n",
      "swapcase(): '12345!@#'\n"
     ]
    }
   ],
   "source": [
    "# Example 1\n",
    "text1 = \"Hello World\"\n",
    "print(f\"Original: '{text1}'\")\n",
    "print(f\"swapcase(): '{text1.swapcase()}'\")\n",
    "\n",
    "print(\"\\n---\")\n",
    "\n",
    "# Example 2\n",
    "text2 = \"PyThOn 3.10!\"\n",
    "print(f\"Original: '{text2}'\")\n",
    "print(f\"swapcase(): '{text2.swapcase()}'\")\n",
    "\n",
    "print(\"\\n---\")\n",
    "\n",
    "# Example 3\n",
    "text3 = \"12345!@#\"\n",
    "print(f\"Original: '{text3}'\")\n",
    "print(f\"swapcase(): '{text3.swapcase()}'\")\n"
   ]
  },
  {
   "cell_type": "markdown",
   "id": "a49d5f89",
   "metadata": {},
   "source": [
    "#### 44. title()\n",
    "- .title() returns a title-cased version of the string.\n",
    "\n",
    "- It converts the first letter of each word to uppercase and the rest to lowercase.\n",
    "\n",
    "- Words are split by whitespace or non-letter characters.\n",
    "- syntax :new_string = string.title()"
   ]
  },
  {
   "cell_type": "code",
   "execution_count": 219,
   "id": "1e202145",
   "metadata": {},
   "outputs": [
    {
     "name": "stdout",
     "output_type": "stream",
     "text": [
      "Hello World\n"
     ]
    }
   ],
   "source": [
    "text = \"hello world\"\n",
    "result = text.title()\n",
    "print(result)  \n"
   ]
  },
  {
   "cell_type": "markdown",
   "id": "6dc6250f",
   "metadata": {},
   "source": [
    "#### 45. translate()\n",
    "- translate() transforms a string using a translation table.\n",
    "- The table is usually created with str.maketrans().\n",
    "- You can:\n",
    "    1. Replace characters with other characters.\n",
    "    2. Remove characters altogether.\n",
    "- syntax : new_string = string.translate(table)\n",
    "    1. table is a mapping of what to replace or remove.\n",
    "    2. You usually build it with str.maketrans()."
   ]
  },
  {
   "cell_type": "code",
   "execution_count": 220,
   "id": "72f7c0f3",
   "metadata": {},
   "outputs": [
    {
     "name": "stdout",
     "output_type": "stream",
     "text": [
      "Original: 'hello world'\n",
      "translate(): 'h2ll4 w4rld'\n",
      "\n",
      "---\n",
      "Original: 'hello, world!'\n",
      "translate(): 'hello world'\n",
      "\n",
      "---\n",
      "Original: 'abc'\n",
      "translate(): 'ABc'\n"
     ]
    }
   ],
   "source": [
    "# Example 1: Replace vowels with numbers\n",
    "text1 = \"hello world\"\n",
    "table1 = str.maketrans(\"aeiou\", \"12345\")\n",
    "print(f\"Original: '{text1}'\")\n",
    "print(f\"translate(): '{text1.translate(table1)}'\")\n",
    "\n",
    "print(\"\\n---\")\n",
    "\n",
    "# Example 2: Remove punctuation\n",
    "text2 = \"hello, world!\"\n",
    "table2 = str.maketrans(\"\", \"\", \",!\")\n",
    "print(f\"Original: '{text2}'\")\n",
    "print(f\"translate(): '{text2.translate(table2)}'\")\n",
    "\n",
    "print(\"\\n---\")\n",
    "\n",
    "# Example 3: Use dictionary\n",
    "text3 = \"abc\"\n",
    "table3 = str.maketrans({\"a\": \"A\", \"b\": \"B\"})\n",
    "print(f\"Original: '{text3}'\")\n",
    "print(f\"translate(): '{text3.translate(table3)}'\")\n"
   ]
  },
  {
   "cell_type": "markdown",
   "id": "90e1842a",
   "metadata": {},
   "source": [
    "#### 46. upper ()\n",
    "- captialize the whole string\n",
    "- syntax : string.upper()"
   ]
  },
  {
   "cell_type": "code",
   "execution_count": 214,
   "id": "bf04c33f",
   "metadata": {},
   "outputs": [
    {
     "data": {
      "text/plain": [
       "'POOJA'"
      ]
     },
     "execution_count": 214,
     "metadata": {},
     "output_type": "execute_result"
    }
   ],
   "source": [
    "string=\"Pooja\"\n",
    "string.upper()"
   ]
  },
  {
   "cell_type": "markdown",
   "id": "37e3d337",
   "metadata": {},
   "source": [
    "#### 47. zfill()\n",
    "- zfill() pads a string on the left with zeros (0) until it reaches the specified width.\n",
    "\n",
    "- If the string is already longer than the width, it stays the same.\n",
    "\n",
    "- Useful for formatting numbers or codes.\n",
    "- new_string = string.zfill(width)\n",
    "   1. width → The total length you want, including zeros and original text. "
   ]
  },
  {
   "cell_type": "code",
   "execution_count": 221,
   "id": "f9cd5f80",
   "metadata": {},
   "outputs": [
    {
     "name": "stdout",
     "output_type": "stream",
     "text": [
      "Original: '42'\n",
      "zfill(5): '00042'\n",
      "\n",
      "---\n",
      "Original: '12345'\n",
      "zfill(3): '12345'\n",
      "\n",
      "---\n",
      "'-42'.zfill(5): '-0042'\n",
      "'+7'.zfill(4): '+007'\n"
     ]
    }
   ],
   "source": [
    "# Example 1\n",
    "num1 = \"42\"\n",
    "print(f\"Original: '{num1}'\")\n",
    "print(f\"zfill(5): '{num1.zfill(5)}'\")  # '00042'\n",
    "\n",
    "print(\"\\n---\")\n",
    "\n",
    "# Example 2\n",
    "num2 = \"12345\"\n",
    "print(f\"Original: '{num2}'\")\n",
    "print(f\"zfill(3): '{num2.zfill(3)}'\")  # '12345' — already long enough\n",
    "\n",
    "print(\"\\n---\")\n",
    "\n",
    "# Example 3: works with signs\n",
    "num3 = \"-42\"\n",
    "num4 = \"+7\"\n",
    "print(f\"'-42'.zfill(5): '{num3.zfill(5)}'\")  # '-0042'\n",
    "print(f\"'+7'.zfill(4): '{num4.zfill(4)}'\")   # '+007'\n"
   ]
  },
  {
   "cell_type": "code",
   "execution_count": null,
   "id": "3a087c50",
   "metadata": {},
   "outputs": [],
   "source": []
  }
 ],
 "metadata": {
  "kernelspec": {
   "display_name": "Python 3 (ipykernel)",
   "language": "python",
   "name": "python3"
  },
  "language_info": {
   "codemirror_mode": {
    "name": "ipython",
    "version": 3
   },
   "file_extension": ".py",
   "mimetype": "text/x-python",
   "name": "python",
   "nbconvert_exporter": "python",
   "pygments_lexer": "ipython3",
   "version": "3.11.4"
  }
 },
 "nbformat": 4,
 "nbformat_minor": 5
}
